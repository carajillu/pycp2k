{
 "cells": [
  {
   "cell_type": "code",
   "execution_count": 1,
   "metadata": {},
   "outputs": [
    {
     "name": "stdout",
     "output_type": "stream",
     "text": [
      "O\n",
      "H\n",
      "O\n",
      "H\n"
     ]
    }
   ],
   "source": [
    "from pycp2k import CP2K\n",
    "from dft_defaults import *\n",
    "\n",
    "calc, CP2K_INPUT = initialise_dft('test')\n",
    "\n",
    "# setup electronic structure sections\n",
    "setup_dft(CP2K_INPUT)\n",
    "setup_rtp(CP2K_INPUT)\n",
    "\n",
    "# build atomistic system\n",
    "from ase.build import molecule\n",
    "SUBSYS = CP2K_INPUT.FORCE_EVAL_list[0].SUBSYS\n",
    "atoms = molecule('H2O')\n",
    "atoms.set_cell([10, 10, 10])\n",
    "atoms.set_pbc([True, True, True])\n",
    "\n",
    "calc.create_coord(SUBSYS,atoms=atoms)\n",
    "calc.create_cell(SUBSYS,atoms=atoms)\n",
    "\n",
    "# add basis sets and pseudo potentials\n",
    "add_atom_kinds(CP2K_INPUT, atoms)\n",
    "\n",
    "# finally write input file\n",
    "calc.write_input_file('test.inp')"
   ]
  }
 ],
 "metadata": {
  "kernelspec": {
   "display_name": "pycp2k",
   "language": "python",
   "name": "python3"
  },
  "language_info": {
   "codemirror_mode": {
    "name": "ipython",
    "version": 3
   },
   "file_extension": ".py",
   "mimetype": "text/x-python",
   "name": "python",
   "nbconvert_exporter": "python",
   "pygments_lexer": "ipython3",
   "version": "3.13.1"
  }
 },
 "nbformat": 4,
 "nbformat_minor": 2
}
